{
 "cells": [
  {
   "cell_type": "code",
   "execution_count": 3,
   "id": "afa10bb8",
   "metadata": {},
   "outputs": [],
   "source": [
    "import numpy as np\n",
    "import pandas as pd\n",
    "import warnings\n",
    "warnings.filterwarnings(\"ignore\")"
   ]
  },
  {
   "cell_type": "code",
   "execution_count": 5,
   "id": "ba6a725c",
   "metadata": {},
   "outputs": [
    {
     "data": {
      "text/plain": [
       "Series([], dtype: float64)"
      ]
     },
     "execution_count": 5,
     "metadata": {},
     "output_type": "execute_result"
    }
   ],
   "source": [
    "# create empty series\n",
    "A=pd.Series()\n",
    "A"
   ]
  },
  {
   "cell_type": "code",
   "execution_count": 6,
   "id": "b07b3b65",
   "metadata": {},
   "outputs": [
    {
     "data": {
      "text/plain": [
       "0    30\n",
       "dtype: int64"
      ]
     },
     "execution_count": 6,
     "metadata": {},
     "output_type": "execute_result"
    }
   ],
   "source": [
    "# create series with one elements\n",
    "B=pd.Series(30)\n",
    "B"
   ]
  },
  {
   "cell_type": "code",
   "execution_count": 11,
   "id": "574046e4",
   "metadata": {},
   "outputs": [
    {
     "data": {
      "text/plain": [
       "0      blue\n",
       "1     green\n",
       "2    orange\n",
       "3      pink\n",
       "4     white\n",
       "dtype: object"
      ]
     },
     "execution_count": 11,
     "metadata": {},
     "output_type": "execute_result"
    }
   ],
   "source": [
    "# create series usings list\n",
    "colors=[\"blue\",\"green\",\"orange\",\"pink\",\"white\"]\n",
    "series=pd.Series(colors)\n",
    "series"
   ]
  },
  {
   "cell_type": "code",
   "execution_count": 8,
   "id": "fb723e47",
   "metadata": {},
   "outputs": [
    {
     "data": {
      "text/plain": [
       "0    11\n",
       "1    12\n",
       "2    56\n",
       "3    45\n",
       "4    45\n",
       "5    75\n",
       "6    85\n",
       "dtype: int64"
      ]
     },
     "execution_count": 8,
     "metadata": {},
     "output_type": "execute_result"
    }
   ],
   "source": [
    "# create series using tuple\n",
    "numbers=(11,12,56,45,45,75,85)\n",
    "data=pd.Series(numbers)\n",
    "data"
   ]
  },
  {
   "cell_type": "code",
   "execution_count": 12,
   "id": "27f758aa",
   "metadata": {},
   "outputs": [
    {
     "data": {
      "text/plain": [
       "0         1\n",
       "1         2\n",
       "2         5\n",
       "3         7\n",
       "4         8\n",
       "5      True\n",
       "6     False\n",
       "7    python\n",
       "dtype: object"
      ]
     },
     "execution_count": 12,
     "metadata": {},
     "output_type": "execute_result"
    }
   ],
   "source": [
    "pd.Series([1,2,5,7,8,True,False,\"python\"])"
   ]
  },
  {
   "cell_type": "code",
   "execution_count": 13,
   "id": "6c91edd2",
   "metadata": {},
   "outputs": [
    {
     "data": {
      "text/plain": [
       "0      mon\n",
       "1     tues\n",
       "2      wed\n",
       "3    thurs\n",
       "4      fri\n",
       "dtype: object"
      ]
     },
     "execution_count": 13,
     "metadata": {},
     "output_type": "execute_result"
    }
   ],
   "source": [
    "days=pd.Series([\"mon\",\"tues\",\"wed\",\"thurs\",\"fri\"])\n",
    "days"
   ]
  },
  {
   "cell_type": "code",
   "execution_count": 14,
   "id": "27863f4a",
   "metadata": {},
   "outputs": [],
   "source": [
    "days.index=[\"day1\",\"day2\",\"day3\",\"day4\",\"day5\"]"
   ]
  },
  {
   "cell_type": "code",
   "execution_count": 15,
   "id": "fdfe5922",
   "metadata": {},
   "outputs": [
    {
     "data": {
      "text/plain": [
       "day1      mon\n",
       "day2     tues\n",
       "day3      wed\n",
       "day4    thurs\n",
       "day5      fri\n",
       "dtype: object"
      ]
     },
     "execution_count": 15,
     "metadata": {},
     "output_type": "execute_result"
    }
   ],
   "source": [
    "days"
   ]
  },
  {
   "cell_type": "code",
   "execution_count": 16,
   "id": "863a9330",
   "metadata": {},
   "outputs": [
    {
     "data": {
      "text/plain": [
       "day1      mon\n",
       "day2     tues\n",
       "day3      wed\n",
       "day4    thurs\n",
       "day5      fri\n",
       "dtype: object"
      ]
     },
     "execution_count": 16,
     "metadata": {},
     "output_type": "execute_result"
    }
   ],
   "source": [
    "days=pd.Series([\"mon\",\"tues\",\"wed\",\"thurs\",\"fri\"],index=[\"day1\",\"day2\",\"day3\",\"day4\",\"day5\"])\n",
    "days"
   ]
  },
  {
   "cell_type": "code",
   "execution_count": 19,
   "id": "cdeed2af",
   "metadata": {},
   "outputs": [],
   "source": [
    "# fetch wed"
   ]
  },
  {
   "cell_type": "code",
   "execution_count": 20,
   "id": "4d96e1b9",
   "metadata": {},
   "outputs": [],
   "source": [
    "# fetch tues,wed"
   ]
  },
  {
   "cell_type": "code",
   "execution_count": 21,
   "id": "5aedf137",
   "metadata": {},
   "outputs": [],
   "source": [
    "# fetch everthing from wed"
   ]
  },
  {
   "cell_type": "code",
   "execution_count": 22,
   "id": "4659a643",
   "metadata": {},
   "outputs": [],
   "source": [
    "# fetch everything till thursday"
   ]
  },
  {
   "cell_type": "code",
   "execution_count": null,
   "id": "5d5f66ff",
   "metadata": {},
   "outputs": [],
   "source": []
  }
 ],
 "metadata": {
  "kernelspec": {
   "display_name": "Python 3 (ipykernel)",
   "language": "python",
   "name": "python3"
  },
  "language_info": {
   "codemirror_mode": {
    "name": "ipython",
    "version": 3
   },
   "file_extension": ".py",
   "mimetype": "text/x-python",
   "name": "python",
   "nbconvert_exporter": "python",
   "pygments_lexer": "ipython3",
   "version": "3.10.9"
  }
 },
 "nbformat": 4,
 "nbformat_minor": 5
}
