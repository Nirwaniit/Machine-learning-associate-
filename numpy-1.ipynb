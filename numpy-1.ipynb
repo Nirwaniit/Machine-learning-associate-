{
 "cells": [
  {
   "cell_type": "code",
   "execution_count": 1,
   "id": "d385c8b8",
   "metadata": {},
   "outputs": [],
   "source": [
    "# import library\n",
    "import numpy as np"
   ]
  },
  {
   "cell_type": "code",
   "execution_count": 3,
   "id": "821ef23d",
   "metadata": {},
   "outputs": [
    {
     "name": "stdout",
     "output_type": "stream",
     "text": [
      "<class 'numpy.ndarray'>\n"
     ]
    }
   ],
   "source": [
    "# create empty array\n",
    "arr=np.array([])\n",
    "arr\n",
    "print(type(arr))"
   ]
  },
  {
   "cell_type": "code",
   "execution_count": 5,
   "id": "6d783f89",
   "metadata": {},
   "outputs": [
    {
     "name": "stdout",
     "output_type": "stream",
     "text": [
      "[103 104 105 147 199]\n",
      "<class 'numpy.ndarray'>\n"
     ]
    }
   ],
   "source": [
    "# create numpy array using list\n",
    "list=[103,104,105,147,199]\n",
    "arr=np.array(list)\n",
    "print(arr)\n",
    "print(type(arr))"
   ]
  },
  {
   "cell_type": "code",
   "execution_count": 6,
   "id": "9e38a5e8",
   "metadata": {},
   "outputs": [
    {
     "data": {
      "text/plain": [
       "array(['blue', 'green', 'orange', 'black'], dtype='<U6')"
      ]
     },
     "execution_count": 6,
     "metadata": {},
     "output_type": "execute_result"
    }
   ],
   "source": [
    "#create numpy array using tuple\n",
    "tuple=(\"blue\",\"green\",\"orange\",\"black\")\n",
    "arr=np.array(tuple)\n",
    "arr"
   ]
  },
  {
   "cell_type": "code",
   "execution_count": 7,
   "id": "7ff0cc0f",
   "metadata": {},
   "outputs": [
    {
     "data": {
      "text/plain": [
       "array(['ff', 'jj'], dtype='<U2')"
      ]
     },
     "execution_count": 7,
     "metadata": {},
     "output_type": "execute_result"
    }
   ],
   "source": [
    "arr=np.array((\"ff\",\"jj\"))\n",
    "arr"
   ]
  },
  {
   "cell_type": "code",
   "execution_count": 8,
   "id": "6312ca67",
   "metadata": {},
   "outputs": [
    {
     "name": "stdout",
     "output_type": "stream",
     "text": [
      "dimention of array is 1\n",
      "number of elements are 9\n",
      "data type of array elements int32\n",
      "type of an object  <class 'numpy.ndarray'>\n",
      "shape of an array (9,)\n"
     ]
    }
   ],
   "source": [
    "# 1-D array\n",
    "arr=np.array([1,2,3,4,5,6,7,8,9])\n",
    "print(\"dimention of array is\",arr.ndim)\n",
    "print(\"number of elements are\",arr.size)\n",
    "print(\"data type of array elements\",arr.dtype)\n",
    "print(\"type of an object \",type(arr))\n",
    "print(\"shape of an array\",arr.shape)"
   ]
  },
  {
   "cell_type": "code",
   "execution_count": 14,
   "id": "855aaead",
   "metadata": {},
   "outputs": [
    {
     "name": "stdout",
     "output_type": "stream",
     "text": [
      "[[1 2 3]\n",
      " [4 5 6]\n",
      " [7 8 9]]\n",
      "dimention of array is 2\n",
      "number of elements are 9\n",
      "data type of array elements int32\n",
      "type of an object  <class 'numpy.ndarray'>\n",
      "shape of an array (3, 3)\n"
     ]
    }
   ],
   "source": [
    "# 2 D ARRAY\n",
    "arr=np.array([[1,2,3],[4,5,6],[7,8,9]])\n",
    "print(arr)\n",
    "print(\"dimention of array is\",arr.ndim)\n",
    "print(\"number of elements are\",arr.size)\n",
    "print(\"data type of array elements\",arr.dtype)\n",
    "print(\"type of an object \",type(arr))\n",
    "print(\"shape of an array\",arr.shape)"
   ]
  },
  {
   "cell_type": "code",
   "execution_count": 17,
   "id": "d629137d",
   "metadata": {},
   "outputs": [
    {
     "name": "stdout",
     "output_type": "stream",
     "text": [
      "dimension of an array 3\n"
     ]
    }
   ],
   "source": [
    "# 3 d array\n",
    "arr=np.array([[[1,2,3]]])\n",
    "print(\"dimension of an array\",arr.ndim)"
   ]
  },
  {
   "cell_type": "code",
   "execution_count": 21,
   "id": "7e6b7aac",
   "metadata": {},
   "outputs": [
    {
     "name": "stdout",
     "output_type": "stream",
     "text": [
      "[[[[1 2 3 4]]]]\n"
     ]
    }
   ],
   "source": [
    "# 4 -d array\n",
    "arr=np.array([1,2,3,4],ndmin=4)\n",
    "print(arr)"
   ]
  },
  {
   "cell_type": "code",
   "execution_count": 24,
   "id": "16b5a230",
   "metadata": {},
   "outputs": [
    {
     "data": {
      "text/plain": [
       "array([1., 2., 3., 4.])"
      ]
     },
     "execution_count": 24,
     "metadata": {},
     "output_type": "execute_result"
    }
   ],
   "source": [
    "# how to difine datatype while creating array\n",
    "arr=np.array([1,2,3,4],dtype=\"float\")\n",
    "arr"
   ]
  },
  {
   "cell_type": "markdown",
   "id": "47b93849",
   "metadata": {},
   "source": [
    "# type casting"
   ]
  },
  {
   "cell_type": "code",
   "execution_count": 25,
   "id": "ef2741e6",
   "metadata": {},
   "outputs": [
    {
     "data": {
      "text/plain": [
       "array([ 3.4,  5. ,  7. ,  8.9,  7. ,  7.5, 75. ])"
      ]
     },
     "execution_count": 25,
     "metadata": {},
     "output_type": "execute_result"
    }
   ],
   "source": [
    "arr=np.array([3.4,5,7,8.9,7,7.5,75])\n",
    "arr"
   ]
  },
  {
   "cell_type": "code",
   "execution_count": 26,
   "id": "067434df",
   "metadata": {},
   "outputs": [
    {
     "data": {
      "text/plain": [
       "array([ 3,  5,  7,  8,  7,  7, 75])"
      ]
     },
     "execution_count": 26,
     "metadata": {},
     "output_type": "execute_result"
    }
   ],
   "source": [
    "arr.astype(\"int\")"
   ]
  },
  {
   "cell_type": "markdown",
   "id": "e7777e93",
   "metadata": {},
   "source": [
    "# indexing and slicing"
   ]
  },
  {
   "cell_type": "code",
   "execution_count": 27,
   "id": "c7734216",
   "metadata": {},
   "outputs": [
    {
     "name": "stdout",
     "output_type": "stream",
     "text": [
      "[101 102 103 104 105 106 107 108]\n"
     ]
    }
   ],
   "source": [
    "arr=np.array([101,102,103,104,105,106,107,108])\n",
    "print(arr)"
   ]
  },
  {
   "cell_type": "code",
   "execution_count": 28,
   "id": "a730598e",
   "metadata": {},
   "outputs": [
    {
     "data": {
      "text/plain": [
       "103"
      ]
     },
     "execution_count": 28,
     "metadata": {},
     "output_type": "execute_result"
    }
   ],
   "source": [
    "# fetch 103\n",
    "arr[2]"
   ]
  },
  {
   "cell_type": "code",
   "execution_count": 29,
   "id": "87270226",
   "metadata": {},
   "outputs": [
    {
     "data": {
      "text/plain": [
       "107"
      ]
     },
     "execution_count": 29,
     "metadata": {},
     "output_type": "execute_result"
    }
   ],
   "source": [
    "arr[6]"
   ]
  },
  {
   "cell_type": "code",
   "execution_count": 30,
   "id": "37cf7404",
   "metadata": {},
   "outputs": [
    {
     "data": {
      "text/plain": [
       "array([102, 103, 104, 105])"
      ]
     },
     "execution_count": 30,
     "metadata": {},
     "output_type": "execute_result"
    }
   ],
   "source": [
    "arr[1:5]"
   ]
  },
  {
   "cell_type": "code",
   "execution_count": 33,
   "id": "6cf311e2",
   "metadata": {},
   "outputs": [
    {
     "data": {
      "text/plain": [
       "array([102, 104, 106, 108])"
      ]
     },
     "execution_count": 33,
     "metadata": {},
     "output_type": "execute_result"
    }
   ],
   "source": [
    "arr[1::2]"
   ]
  },
  {
   "cell_type": "code",
   "execution_count": 34,
   "id": "3bcd67cb",
   "metadata": {},
   "outputs": [
    {
     "data": {
      "text/plain": [
       "array([108, 107, 106, 105, 104, 103, 102, 101])"
      ]
     },
     "execution_count": 34,
     "metadata": {},
     "output_type": "execute_result"
    }
   ],
   "source": [
    "# how to reverse numpy array\n",
    "arr[::-1]"
   ]
  },
  {
   "cell_type": "markdown",
   "id": "a30f0eba",
   "metadata": {},
   "source": [
    "# indexing and slicing in 2d"
   ]
  },
  {
   "cell_type": "code",
   "execution_count": 36,
   "id": "ec403286",
   "metadata": {},
   "outputs": [
    {
     "data": {
      "text/plain": [
       "array([[1, 2, 3],\n",
       "       [4, 5, 6],\n",
       "       [7, 8, 9]])"
      ]
     },
     "execution_count": 36,
     "metadata": {},
     "output_type": "execute_result"
    }
   ],
   "source": [
    "arr_2d=np.array([[1,2,3],[4,5,6],[7,8,9]])\n",
    "arr_2d"
   ]
  },
  {
   "cell_type": "markdown",
   "id": "dd40eec7",
   "metadata": {},
   "source": [
    "### fetch rows"
   ]
  },
  {
   "cell_type": "code",
   "execution_count": 37,
   "id": "da55aa6d",
   "metadata": {},
   "outputs": [
    {
     "data": {
      "text/plain": [
       "array([1, 2, 3])"
      ]
     },
     "execution_count": 37,
     "metadata": {},
     "output_type": "execute_result"
    }
   ],
   "source": [
    "# fetch first row\n",
    "arr_2d[0]"
   ]
  },
  {
   "cell_type": "code",
   "execution_count": 38,
   "id": "adca91b7",
   "metadata": {},
   "outputs": [
    {
     "data": {
      "text/plain": [
       "array([4, 5, 6])"
      ]
     },
     "execution_count": 38,
     "metadata": {},
     "output_type": "execute_result"
    }
   ],
   "source": [
    "# 2nd row\n",
    "arr_2d[1]"
   ]
  },
  {
   "cell_type": "code",
   "execution_count": 39,
   "id": "4c2be717",
   "metadata": {},
   "outputs": [
    {
     "data": {
      "text/plain": [
       "array([[1, 2, 3],\n",
       "       [4, 5, 6]])"
      ]
     },
     "execution_count": 39,
     "metadata": {},
     "output_type": "execute_result"
    }
   ],
   "source": [
    "# fetch first and second row\n",
    "arr_2d[[0,1]]"
   ]
  },
  {
   "cell_type": "code",
   "execution_count": 40,
   "id": "513e095b",
   "metadata": {},
   "outputs": [
    {
     "data": {
      "text/plain": [
       "array([[1, 2, 3],\n",
       "       [4, 5, 6]])"
      ]
     },
     "execution_count": 40,
     "metadata": {},
     "output_type": "execute_result"
    }
   ],
   "source": [
    "arr_2d[0:2]"
   ]
  },
  {
   "cell_type": "code",
   "execution_count": 41,
   "id": "234a864c",
   "metadata": {},
   "outputs": [
    {
     "data": {
      "text/plain": [
       "array([[1, 2, 3],\n",
       "       [7, 8, 9]])"
      ]
     },
     "execution_count": 41,
     "metadata": {},
     "output_type": "execute_result"
    }
   ],
   "source": [
    "# fetch 1st and 3rd row\n",
    "arr_2d[[0,2]]"
   ]
  },
  {
   "cell_type": "code",
   "execution_count": 46,
   "id": "7730fc2e",
   "metadata": {},
   "outputs": [
    {
     "data": {
      "text/plain": [
       "array([[1],\n",
       "       [4],\n",
       "       [7]])"
      ]
     },
     "execution_count": 46,
     "metadata": {},
     "output_type": "execute_result"
    }
   ],
   "source": [
    "# fetch 1st coloumn\n",
    "arr_2d[:,[0]]"
   ]
  },
  {
   "cell_type": "code",
   "execution_count": 47,
   "id": "42fb7a39",
   "metadata": {},
   "outputs": [
    {
     "data": {
      "text/plain": [
       "array([[3],\n",
       "       [6],\n",
       "       [9]])"
      ]
     },
     "execution_count": 47,
     "metadata": {},
     "output_type": "execute_result"
    }
   ],
   "source": [
    "# fetch thrid column\n",
    "arr_2d[:,[2]]"
   ]
  },
  {
   "cell_type": "code",
   "execution_count": 48,
   "id": "1131b476",
   "metadata": {},
   "outputs": [
    {
     "data": {
      "text/plain": [
       "array([[1, 3],\n",
       "       [4, 6],\n",
       "       [7, 9]])"
      ]
     },
     "execution_count": 48,
     "metadata": {},
     "output_type": "execute_result"
    }
   ],
   "source": [
    "# fetch 1st and 3d column\n",
    "arr_2d[:,[0,2]]"
   ]
  },
  {
   "cell_type": "raw",
   "id": "0aa75a8e",
   "metadata": {},
   "source": []
  },
  {
   "cell_type": "code",
   "execution_count": 49,
   "id": "d10db88a",
   "metadata": {},
   "outputs": [
    {
     "data": {
      "text/plain": [
       "array([[1, 2],\n",
       "       [4, 5],\n",
       "       [7, 8]])"
      ]
     },
     "execution_count": 49,
     "metadata": {},
     "output_type": "execute_result"
    }
   ],
   "source": [
    "# fetch first and second column\n",
    "arr_2d[:,[0,1]]"
   ]
  },
  {
   "cell_type": "code",
   "execution_count": 50,
   "id": "ebba501c",
   "metadata": {},
   "outputs": [
    {
     "data": {
      "text/plain": [
       "array([[1, 2],\n",
       "       [4, 5],\n",
       "       [7, 8]])"
      ]
     },
     "execution_count": 50,
     "metadata": {},
     "output_type": "execute_result"
    }
   ],
   "source": [
    "# using slicing\n",
    "arr_2d[:,0:2]"
   ]
  },
  {
   "cell_type": "code",
   "execution_count": 54,
   "id": "95c67b07",
   "metadata": {},
   "outputs": [
    {
     "data": {
      "text/plain": [
       "array([[5, 6],\n",
       "       [8, 9]])"
      ]
     },
     "execution_count": 54,
     "metadata": {},
     "output_type": "execute_result"
    }
   ],
   "source": [
    "arr_2d[1:3,1:3] #using slicing"
   ]
  },
  {
   "cell_type": "code",
   "execution_count": 55,
   "id": "9be0f8b3",
   "metadata": {},
   "outputs": [
    {
     "data": {
      "text/plain": [
       "array([5, 9])"
      ]
     },
     "execution_count": 55,
     "metadata": {},
     "output_type": "execute_result"
    }
   ],
   "source": [
    "arr_2d[[1,2],[1,2]]"
   ]
  },
  {
   "cell_type": "code",
   "execution_count": 57,
   "id": "a1c8b9d2",
   "metadata": {},
   "outputs": [
    {
     "data": {
      "text/plain": [
       "array([[4, 5],\n",
       "       [7, 8]])"
      ]
     },
     "execution_count": 57,
     "metadata": {},
     "output_type": "execute_result"
    }
   ],
   "source": [
    "arr_2d[1:3,0:2]"
   ]
  },
  {
   "cell_type": "markdown",
   "id": "81058ab5",
   "metadata": {},
   "source": [
    "# Arithmetic operations"
   ]
  },
  {
   "cell_type": "code",
   "execution_count": 59,
   "id": "bc15818d",
   "metadata": {},
   "outputs": [],
   "source": [
    "A=np.array([10,20,30,40,50])\n",
    "B=np.array([5,2,3,4,5])"
   ]
  },
  {
   "cell_type": "code",
   "execution_count": 60,
   "id": "ba753225",
   "metadata": {},
   "outputs": [
    {
     "data": {
      "text/plain": [
       "array([15, 22, 33, 44, 55])"
      ]
     },
     "execution_count": 60,
     "metadata": {},
     "output_type": "execute_result"
    }
   ],
   "source": [
    "# add\n",
    "A+B"
   ]
  },
  {
   "cell_type": "code",
   "execution_count": 61,
   "id": "0f480c25",
   "metadata": {},
   "outputs": [
    {
     "data": {
      "text/plain": [
       "array([ 50,  40,  90, 160, 250])"
      ]
     },
     "execution_count": 61,
     "metadata": {},
     "output_type": "execute_result"
    }
   ],
   "source": [
    "# MULL\n",
    "A*B"
   ]
  },
  {
   "cell_type": "code",
   "execution_count": 63,
   "id": "d92e9407",
   "metadata": {},
   "outputs": [
    {
     "data": {
      "text/plain": [
       "array([ 100,  400,  900, 1600, 2500])"
      ]
     },
     "execution_count": 63,
     "metadata": {},
     "output_type": "execute_result"
    }
   ],
   "source": [
    "# square\n",
    "A**2"
   ]
  },
  {
   "cell_type": "code",
   "execution_count": 64,
   "id": "0ebea64f",
   "metadata": {},
   "outputs": [
    {
     "data": {
      "text/plain": [
       "590"
      ]
     },
     "execution_count": 64,
     "metadata": {},
     "output_type": "execute_result"
    }
   ],
   "source": [
    "# matrix maltiplication\n",
    "A@B"
   ]
  },
  {
   "cell_type": "code",
   "execution_count": null,
   "id": "7b933f87",
   "metadata": {},
   "outputs": [],
   "source": []
  }
 ],
 "metadata": {
  "kernelspec": {
   "display_name": "Python 3 (ipykernel)",
   "language": "python",
   "name": "python3"
  },
  "language_info": {
   "codemirror_mode": {
    "name": "ipython",
    "version": 3
   },
   "file_extension": ".py",
   "mimetype": "text/x-python",
   "name": "python",
   "nbconvert_exporter": "python",
   "pygments_lexer": "ipython3",
   "version": "3.10.9"
  }
 },
 "nbformat": 4,
 "nbformat_minor": 5
}
