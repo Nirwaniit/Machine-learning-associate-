{
 "cells": [
  {
   "cell_type": "markdown",
   "id": "8740981a",
   "metadata": {},
   "source": [
    "# Build in function"
   ]
  },
  {
   "cell_type": "markdown",
   "id": "6942e17e",
   "metadata": {},
   "source": [
    "## arange"
   ]
  },
  {
   "cell_type": "code",
   "execution_count": 1,
   "id": "ad92d4f0",
   "metadata": {},
   "outputs": [],
   "source": [
    "import numpy as np"
   ]
  },
  {
   "cell_type": "code",
   "execution_count": 2,
   "id": "5d56ed42",
   "metadata": {},
   "outputs": [
    {
     "data": {
      "text/plain": [
       "array([0, 1, 2, 3, 4, 5, 6, 7, 8, 9])"
      ]
     },
     "execution_count": 2,
     "metadata": {},
     "output_type": "execute_result"
    }
   ],
   "source": [
    "# generate array which includes values from 0 to 9\n",
    "np.arange(10)"
   ]
  },
  {
   "cell_type": "code",
   "execution_count": 3,
   "id": "0466b1ed",
   "metadata": {},
   "outputs": [
    {
     "data": {
      "text/plain": [
       "array([10, 11, 12, 13, 14, 15, 16, 17, 18, 19, 20])"
      ]
     },
     "execution_count": 3,
     "metadata": {},
     "output_type": "execute_result"
    }
   ],
   "source": [
    "#  generate values from 10 to 20\n",
    "np.arange(10,21)"
   ]
  },
  {
   "cell_type": "code",
   "execution_count": 4,
   "id": "8feabcb7",
   "metadata": {},
   "outputs": [
    {
     "data": {
      "text/plain": [
       "array([ 4,  8, 12, 16, 20, 24, 28, 32, 36, 40])"
      ]
     },
     "execution_count": 4,
     "metadata": {},
     "output_type": "execute_result"
    }
   ],
   "source": [
    "# genarate first 5 even number\n",
    "np.arange(4,41,4)"
   ]
  },
  {
   "cell_type": "code",
   "execution_count": 5,
   "id": "31880aae",
   "metadata": {},
   "outputs": [
    {
     "data": {
      "text/plain": [
       "array([ 4,  8, 12, 16, 20, 24, 28, 32, 36, 40])"
      ]
     },
     "execution_count": 5,
     "metadata": {},
     "output_type": "execute_result"
    }
   ],
   "source": [
    "# multiple of 4\n",
    "np.arange(4,41,4)"
   ]
  },
  {
   "cell_type": "markdown",
   "id": "83d7afe9",
   "metadata": {},
   "source": [
    "## linspace"
   ]
  },
  {
   "cell_type": "code",
   "execution_count": 6,
   "id": "24f41eb9",
   "metadata": {},
   "outputs": [
    {
     "data": {
      "text/plain": [
       "array([1.        , 1.02040816, 1.04081633, 1.06122449, 1.08163265,\n",
       "       1.10204082, 1.12244898, 1.14285714, 1.16326531, 1.18367347,\n",
       "       1.20408163, 1.2244898 , 1.24489796, 1.26530612, 1.28571429,\n",
       "       1.30612245, 1.32653061, 1.34693878, 1.36734694, 1.3877551 ,\n",
       "       1.40816327, 1.42857143, 1.44897959, 1.46938776, 1.48979592,\n",
       "       1.51020408, 1.53061224, 1.55102041, 1.57142857, 1.59183673,\n",
       "       1.6122449 , 1.63265306, 1.65306122, 1.67346939, 1.69387755,\n",
       "       1.71428571, 1.73469388, 1.75510204, 1.7755102 , 1.79591837,\n",
       "       1.81632653, 1.83673469, 1.85714286, 1.87755102, 1.89795918,\n",
       "       1.91836735, 1.93877551, 1.95918367, 1.97959184, 2.        ])"
      ]
     },
     "execution_count": 6,
     "metadata": {},
     "output_type": "execute_result"
    }
   ],
   "source": [
    "# linspace generate linearly spaced values within a given range\n",
    "np.linspace(1,2)"
   ]
  },
  {
   "cell_type": "code",
   "execution_count": 7,
   "id": "bcadc009",
   "metadata": {},
   "outputs": [
    {
     "data": {
      "text/plain": [
       "(array([1.        , 1.02040816, 1.04081633, 1.06122449, 1.08163265,\n",
       "        1.10204082, 1.12244898, 1.14285714, 1.16326531, 1.18367347,\n",
       "        1.20408163, 1.2244898 , 1.24489796, 1.26530612, 1.28571429,\n",
       "        1.30612245, 1.32653061, 1.34693878, 1.36734694, 1.3877551 ,\n",
       "        1.40816327, 1.42857143, 1.44897959, 1.46938776, 1.48979592,\n",
       "        1.51020408, 1.53061224, 1.55102041, 1.57142857, 1.59183673,\n",
       "        1.6122449 , 1.63265306, 1.65306122, 1.67346939, 1.69387755,\n",
       "        1.71428571, 1.73469388, 1.75510204, 1.7755102 , 1.79591837,\n",
       "        1.81632653, 1.83673469, 1.85714286, 1.87755102, 1.89795918,\n",
       "        1.91836735, 1.93877551, 1.95918367, 1.97959184, 2.        ]),\n",
       " 0.02040816326530612)"
      ]
     },
     "execution_count": 7,
     "metadata": {},
     "output_type": "execute_result"
    }
   ],
   "source": [
    "np.linspace(1,2,retstep=True)  # retset will give diiference"
   ]
  },
  {
   "cell_type": "code",
   "execution_count": 8,
   "id": "7951b58b",
   "metadata": {},
   "outputs": [
    {
     "data": {
      "text/plain": [
       "(array([  1.,  12.,  23.,  34.,  45.,  56.,  67.,  78.,  89., 100.]), 11.0)"
      ]
     },
     "execution_count": 8,
     "metadata": {},
     "output_type": "execute_result"
    }
   ],
   "source": [
    "# generate 10 linearly spaced values between 1 and 100\n",
    "np.linspace(1,100,num=10,retstep=True)"
   ]
  },
  {
   "cell_type": "code",
   "execution_count": 10,
   "id": "7f9d9fd3",
   "metadata": {},
   "outputs": [
    {
     "data": {
      "text/plain": [
       "(array([   1.  ,  250.75,  500.5 ,  750.25, 1000.  ]), 249.75)"
      ]
     },
     "execution_count": 10,
     "metadata": {},
     "output_type": "execute_result"
    }
   ],
   "source": [
    "# 1 to 1000   five linear spacing\n",
    "np.linspace(1,1000,5,retstep=True)"
   ]
  },
  {
   "cell_type": "markdown",
   "id": "d99f5481",
   "metadata": {},
   "source": [
    "## zeros"
   ]
  },
  {
   "cell_type": "code",
   "execution_count": 11,
   "id": "610dd3cd",
   "metadata": {},
   "outputs": [],
   "source": [
    "# it is used to generate 1-d or 5-d array with all values zero\n"
   ]
  },
  {
   "cell_type": "code",
   "execution_count": 12,
   "id": "5ea5a885",
   "metadata": {},
   "outputs": [
    {
     "data": {
      "text/plain": [
       "array([0., 0., 0., 0., 0.])"
      ]
     },
     "execution_count": 12,
     "metadata": {},
     "output_type": "execute_result"
    }
   ],
   "source": [
    "# generate an 1-d array with 5 element as zero\n",
    "np.zeros(5)"
   ]
  },
  {
   "cell_type": "code",
   "execution_count": 13,
   "id": "b457e7e8",
   "metadata": {},
   "outputs": [
    {
     "data": {
      "text/plain": [
       "array([[0., 0., 0., 0.],\n",
       "       [0., 0., 0., 0.],\n",
       "       [0., 0., 0., 0.]])"
      ]
     },
     "execution_count": 13,
     "metadata": {},
     "output_type": "execute_result"
    }
   ],
   "source": [
    "# generate 2-d array which has  3 rows and 4 coloumn\n",
    "np.zeros((3,4))   # for 2d array 2 brackets"
   ]
  },
  {
   "cell_type": "markdown",
   "id": "04c0cbae",
   "metadata": {},
   "source": [
    "# ones\n",
    "* ones is used to generate 1d or 2d array with all elements as 1"
   ]
  },
  {
   "cell_type": "code",
   "execution_count": 14,
   "id": "9210c7a4",
   "metadata": {},
   "outputs": [
    {
     "data": {
      "text/plain": [
       "array([1., 1., 1., 1., 1., 1., 1., 1., 1., 1.])"
      ]
     },
     "execution_count": 14,
     "metadata": {},
     "output_type": "execute_result"
    }
   ],
   "source": [
    "# 1d array with 10 elements as ones\n",
    "np.ones(10)"
   ]
  },
  {
   "cell_type": "code",
   "execution_count": 15,
   "id": "5649a2a2",
   "metadata": {},
   "outputs": [
    {
     "data": {
      "text/plain": [
       "array([1, 1, 1, 1, 1, 1, 1, 1, 1, 1])"
      ]
     },
     "execution_count": 15,
     "metadata": {},
     "output_type": "execute_result"
    }
   ],
   "source": [
    "np.ones(10,dtype=\"int\")"
   ]
  },
  {
   "cell_type": "code",
   "execution_count": 18,
   "id": "31326904",
   "metadata": {},
   "outputs": [
    {
     "data": {
      "text/plain": [
       "array([[1, 1, 1],\n",
       "       [1, 1, 1],\n",
       "       [1, 1, 1],\n",
       "       [1, 1, 1],\n",
       "       [1, 1, 1]])"
      ]
     },
     "execution_count": 18,
     "metadata": {},
     "output_type": "execute_result"
    }
   ],
   "source": [
    "# generate 2d array with 5 rows and 3 columns\n",
    "np.ones((5,3,),dtype=\"int\")"
   ]
  },
  {
   "cell_type": "markdown",
   "id": "69a11c14",
   "metadata": {},
   "source": [
    "## eye\n",
    "* it is used to generate identity matrix\n",
    "* it generate only 2-d array\n",
    "* it will not generate 1-d array"
   ]
  },
  {
   "cell_type": "code",
   "execution_count": 19,
   "id": "6f9c68a2",
   "metadata": {},
   "outputs": [
    {
     "data": {
      "text/plain": [
       "array([[1., 0.],\n",
       "       [0., 1.]])"
      ]
     },
     "execution_count": 19,
     "metadata": {},
     "output_type": "execute_result"
    }
   ],
   "source": [
    "np.eye(2,2) # generates identity matrix with order (2,2)"
   ]
  },
  {
   "cell_type": "code",
   "execution_count": 20,
   "id": "f83cbe92",
   "metadata": {},
   "outputs": [
    {
     "data": {
      "text/plain": [
       "array([[1., 0., 0., 0.],\n",
       "       [0., 1., 0., 0.],\n",
       "       [0., 0., 1., 0.]])"
      ]
     },
     "execution_count": 20,
     "metadata": {},
     "output_type": "execute_result"
    }
   ],
   "source": [
    "# generate identity matrix of order(3,4)\n",
    "np.eye(3,4)"
   ]
  },
  {
   "cell_type": "markdown",
   "id": "82791472",
   "metadata": {},
   "source": [
    "# full\n",
    "it is used to generate 1-d or 2d array with same elements"
   ]
  },
  {
   "cell_type": "code",
   "execution_count": 22,
   "id": "78ce8c46",
   "metadata": {},
   "outputs": [
    {
     "data": {
      "text/plain": [
       "array([5, 5, 5])"
      ]
     },
     "execution_count": 22,
     "metadata": {},
     "output_type": "execute_result"
    }
   ],
   "source": [
    " np.full(3,5)"
   ]
  },
  {
   "cell_type": "code",
   "execution_count": 23,
   "id": "1aeac9b7",
   "metadata": {},
   "outputs": [
    {
     "data": {
      "text/plain": [
       "array([[10, 10, 10, 10],\n",
       "       [10, 10, 10, 10],\n",
       "       [10, 10, 10, 10]])"
      ]
     },
     "execution_count": 23,
     "metadata": {},
     "output_type": "execute_result"
    }
   ],
   "source": [
    "# create 2-d array with (3,4) with all values as 10\n",
    "np.full((3,4),10)"
   ]
  },
  {
   "cell_type": "markdown",
   "id": "651aee4f",
   "metadata": {},
   "source": [
    "# random"
   ]
  },
  {
   "cell_type": "code",
   "execution_count": 26,
   "id": "81d524c4",
   "metadata": {},
   "outputs": [
    {
     "data": {
      "text/plain": [
       "array([0.11537952, 0.03849679, 0.03918023, 0.01749147])"
      ]
     },
     "execution_count": 26,
     "metadata": {},
     "output_type": "execute_result"
    }
   ],
   "source": [
    "# create an array which includes 4 random numbers between 0 to 1\n",
    "np.random.rand(4)"
   ]
  },
  {
   "cell_type": "code",
   "execution_count": 28,
   "id": "272915c5",
   "metadata": {},
   "outputs": [
    {
     "data": {
      "text/plain": [
       "array([0.97233146, 0.66406302, 0.34988671, 0.34089916, 0.92966423,\n",
       "       0.62471366, 0.74456006, 0.20758699, 0.94702649, 0.12969351])"
      ]
     },
     "execution_count": 28,
     "metadata": {},
     "output_type": "execute_result"
    }
   ],
   "source": [
    "# genarate 10 random number between 0 to 1\n",
    "np.random.rand(10)"
   ]
  },
  {
   "cell_type": "code",
   "execution_count": 29,
   "id": "d6f68dc6",
   "metadata": {},
   "outputs": [
    {
     "data": {
      "text/plain": [
       "array([[0.51481602, 0.11444513],\n",
       "       [0.5399948 , 0.20615681],\n",
       "       [0.06537197, 0.8946913 ],\n",
       "       [0.13773178, 0.30936207],\n",
       "       [0.62568496, 0.46768967]])"
      ]
     },
     "execution_count": 29,
     "metadata": {},
     "output_type": "execute_result"
    }
   ],
   "source": [
    "# generate 2 -d array which includes 10 random number between 0 to 1\n",
    "np.random.rand(5,2)"
   ]
  },
  {
   "cell_type": "markdown",
   "id": "664aad37",
   "metadata": {},
   "source": [
    "### randn\n",
    "randn generate 1-d and 2-d array which includes random normally distributed values"
   ]
  },
  {
   "cell_type": "code",
   "execution_count": 30,
   "id": "3d3f907c",
   "metadata": {},
   "outputs": [
    {
     "data": {
      "text/plain": [
       "array([-9.40151897e-01,  7.67053751e-01,  4.42606857e-02, -3.14493402e-01,\n",
       "       -1.15542135e-01,  1.79659414e-04,  3.87043994e-01,  5.94440365e-01,\n",
       "        1.91502048e-01, -6.57529639e-01])"
      ]
     },
     "execution_count": 30,
     "metadata": {},
     "output_type": "execute_result"
    }
   ],
   "source": [
    "# generate an array which include 10 random normal numbers\n",
    "np.random.randn(10)"
   ]
  },
  {
   "cell_type": "code",
   "execution_count": 31,
   "id": "d159b6b7",
   "metadata": {},
   "outputs": [
    {
     "data": {
      "text/plain": [
       "array([[ 1.34388887,  2.03343796, -0.67852958, -0.65586217],\n",
       "       [ 1.5964281 ,  0.13084633,  0.43278739, -1.49408905],\n",
       "       [ 2.21525501,  1.46682437,  0.48676281, -0.10095944]])"
      ]
     },
     "execution_count": 31,
     "metadata": {},
     "output_type": "execute_result"
    }
   ],
   "source": [
    "# generate 2-d array of an order (3,4) which includes random normal number\n",
    "np.random.randn(3,4)"
   ]
  },
  {
   "cell_type": "markdown",
   "id": "737235a1",
   "metadata": {},
   "source": [
    "## randint\n",
    "it is used to generate random integer between any interval"
   ]
  },
  {
   "cell_type": "code",
   "execution_count": 32,
   "id": "0ec879f6",
   "metadata": {},
   "outputs": [
    {
     "data": {
      "text/plain": [
       "array([91, 44, 15, 28, 14, 33, 26, 73,  5, 32])"
      ]
     },
     "execution_count": 32,
     "metadata": {},
     "output_type": "execute_result"
    }
   ],
   "source": [
    "# generate 10 random number between 1 to 100\n",
    "np.random.randint(1,100,10)"
   ]
  },
  {
   "cell_type": "code",
   "execution_count": 33,
   "id": "2c2249ba",
   "metadata": {},
   "outputs": [
    {
     "data": {
      "text/plain": [
       "array([[81, 33, 28],\n",
       "       [ 8, 48, 67],\n",
       "       [17, 80, 71],\n",
       "       [33, 17, 73],\n",
       "       [13, 29, 25]])"
      ]
     },
     "execution_count": 33,
     "metadata": {},
     "output_type": "execute_result"
    }
   ],
   "source": [
    "np.random.randint(1,100,(5,3))"
   ]
  },
  {
   "cell_type": "code",
   "execution_count": null,
   "id": "456401cf",
   "metadata": {},
   "outputs": [],
   "source": []
  }
 ],
 "metadata": {
  "kernelspec": {
   "display_name": "Python 3 (ipykernel)",
   "language": "python",
   "name": "python3"
  },
  "language_info": {
   "codemirror_mode": {
    "name": "ipython",
    "version": 3
   },
   "file_extension": ".py",
   "mimetype": "text/x-python",
   "name": "python",
   "nbconvert_exporter": "python",
   "pygments_lexer": "ipython3",
   "version": "3.10.9"
  }
 },
 "nbformat": 4,
 "nbformat_minor": 5
}
